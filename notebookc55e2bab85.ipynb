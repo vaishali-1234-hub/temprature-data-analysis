{
 "cells": [
  {
   "cell_type": "markdown",
   "metadata": {},
   "source": [
    "<img src=\"https://devra.ai/analyst/notebook/1433/image.jpg\" style=\"width: 100%; height: auto;\" />"
   ]
  },
  {
   "cell_type": "markdown",
   "metadata": {},
   "source": [
    "<div style=\"text-align:center; border-radius:15px; padding:15px; color:white; margin:0; font-family: 'Orbitron', sans-serif; background: #2E0249; background: #11001C; box-shadow: 0px 4px 8px rgba(0, 0, 0, 0.3); overflow:hidden; margin-bottom: 1em;\">\n",
    "  <div style=\"font-size:150%; color:#FEE100\"><b>Temperature Data Analysis Notebook</b></div>\n",
    "  <div>This notebook was created with the help of <a href=\"https://devra.ai/ref/kaggle\" style=\"color:#6666FF\">Devra AI</a></div>\n",
    "</div>\n",
    "\n",
    "Few may presume that climate change statistics are dry; our dataset will show that the numbers tell a story full of surprises and predictions. If you find this notebook useful, please upvote it."
   ]
  },
  {
   "cell_type": "markdown",
   "metadata": {},
   "source": [
    "## Table of Contents\n",
    "\n",
    "1. [Data Loading](#Data-Loading)\n",
    "2. [Data Cleaning and Preprocessing](#Data-Cleaning-and-Preprocessing)\n",
    "3. [Exploratory Data Analysis](#Exploratory-Data-Analysis)\n",
    "4. [Visualization and Analysis](#Visualization-and-Analysis)\n",
    "5. [Prediction and Model Building](#Prediction-and-Model-Building)\n",
    "6. [Conclusion and Future Work](#Conclusion-and-Future-Work)"
   ]
  },
  {
   "cell_type": "code",
   "execution_count": null,
   "metadata": {},
   "outputs": [],
   "source": [
    "# Import and setup libraries\n",
    "import warnings\n",
    "warnings.filterwarnings('ignore')\n",
    "\n",
    "import numpy as np\n",
    "import pandas as pd\n",
    "import matplotlib\n",
    "matplotlib.use('Agg')  # Necessary backend setting\n",
    "import matplotlib.pyplot as plt\n",
    "plt.switch_backend('Agg')  # switch backend if only plt imported\n",
    "\n",
    "import seaborn as sns\n",
    "sns.set(style='whitegrid', palette='muted', color_codes=True)\n",
    "\n",
    "from sklearn.model_selection import train_test_split\n",
    "from sklearn.linear_model import LinearRegression\n",
    "from sklearn.metrics import r2_score, mean_squared_error\n",
    "\n",
    "# Ensure inline plotting (Kaggle specific)\n",
    "%matplotlib inline\n",
    "\n",
    "# Set a random seed for reproducibility\n",
    "RANDOM_STATE = 42\n",
    "\n",
    "print('Libraries imported and backend configured.')"
   ]
  },
  {
   "cell_type": "markdown",
   "metadata": {},
   "source": [
    "## Data Loading\n",
    "\n",
    "In this section we load the temperature dataset. The data contains yearly records per country and features such as average temperature, CO2 emissions, sea level rise, rainfall, and more. Although the year is an integer, it represents a time component so it can be treated as a date-type feature when necessary."
   ]
  },
  {
   "cell_type": "code",
   "execution_count": null,
   "metadata": {},
   "outputs": [],
   "source": [
    "# Load the dataset\n",
    "file_path = '/kaggle/input/temperature/temperature.csv'\n",
    "try:\n",
    "    df = pd.read_csv(file_path, encoding='ascii', delimiter=',')\n",
    "    print('Data loaded successfully, sample records below:')\n",
    "    display(df.head())\n",
    "except Exception as error:\n",
    "    print('Error loading the dataset. Check file path or encoding settings.')\n",
    "    print(error)"
   ]
  },
  {
   "cell_type": "markdown",
   "metadata": {},
   "source": [
    "## Data Cleaning and Preprocessing\n",
    "\n",
    "We start by checking for missing values and potential data type issues. It is common for datasets to have imperfections and while the schema here is defined, errors may occur during the realization. Any necessary type conversions are done in this step. Enjoy the beauty of clean data."
   ]
  },
  {
   "cell_type": "code",
   "execution_count": null,
   "metadata": {},
   "outputs": [],
   "source": [
    "# Basic data exploration\n",
    "print('Dataset shape:', df.shape)\n",
    "print('\\nDataset info:')\n",
    "df.info()\n",
    "\n",
    "# Check for missing values\n",
    "print('\\nMissing values per column:')\n",
    "print(df.isnull().sum())\n",
    "\n",
    "# Handle missing values if any (using median imputation for numeric columns as an example)\n",
    "numeric_cols = df.select_dtypes(include=[np.number]).columns\n",
    "for col in numeric_cols:\n",
    "    if df[col].isnull().sum() > 0:\n",
    "        median_val = df[col].median()\n",
    "        df[col].fillna(median_val, inplace=True)\n",
    "        print(f'Filled missing values in {col} with median value {median_val}')\n",
    "\n",
    "# A quick check of data types\n",
    "print('\\nData types after cleaning:')\n",
    "print(df.dtypes)"
   ]
  },
  {
   "cell_type": "markdown",
   "metadata": {},
   "source": [
    "## Exploratory Data Analysis\n",
    "\n",
    "Let us now dive into the numerical trends, distributions, and correlations present in our dataset. Notice how several features interact with one another: understanding these relationships will help us in building an effective predictor."
   ]
  },
  {
   "cell_type": "code",
   "execution_count": null,
   "metadata": {},
   "outputs": [],
   "source": [
    "# Descriptive statistics\n",
    "print('Descriptive statistics for numerical features:')\n",
    "display(df.describe())\n",
    "\n",
    "# Correlation analysis on numeric data\n",
    "numeric_df = df.select_dtypes(include=[np.number])\n",
    "if numeric_df.shape[1] >= 4:\n",
    "    plt.figure(figsize=(12, 10))\n",
    "    corr = numeric_df.corr()\n",
    "    sns.heatmap(corr, annot=True, cmap='coolwarm', fmt='.2f')\n",
    "    plt.title('Correlation Heatmap of Numeric Features')\n",
    "    plt.tight_layout()\n",
    "    plt.show()\n",
    "else:\n",
    "    print('Not enough numeric columns for a correlation heatmap.')\n",
    "\n",
    "# Pairplot for a subset of numeric columns to inspect bivariate relationships\n",
    "sample_cols = [col for col in ['Year', 'Avg_Temperature_degC', 'CO2_Emissions_tons_per_capita',\n",
    "                               'Sea_Level_Rise_mm', 'Rainfall_mm'] if col in numeric_df.columns]\n",
    "if len(sample_cols) >= 2:\n",
    "    sns.pairplot(df[sample_cols].dropna())\n",
    "    plt.suptitle('Pairplot of Selected Numeric Features', y=1.02)\n",
    "    plt.show()\n",
    "else:\n",
    "    print('Not enough variables for a meaningful pairplot.')"
   ]
  },
  {
   "cell_type": "markdown",
   "metadata": {},
   "source": [
    "## Visualization and Analysis\n",
    "\n",
    "Time to visualize categorical trends and distribution shapes. We apply several plot types: histograms for distribution, box plots for outlier detection, and count plots for categorical frequencies."
   ]
  },
  {
   "cell_type": "code",
   "execution_count": null,
   "metadata": {},
   "outputs": [],
   "source": [
    "# Histogram of Average Temperature\n",
    "plt.figure(figsize=(8, 5))\n",
    "sns.histplot(df['Avg_Temperature_degC'].dropna(), kde=True, color='skyblue')\n",
    "plt.title('Distribution of Average Temperature (°C)')\n",
    "plt.xlabel('Avg_Temperature_degC')\n",
    "plt.ylabel('Count')\n",
    "plt.tight_layout()\n",
    "plt.show()\n",
    "\n",
    "# Box Plot for Avg Temperature by Country\n",
    "plt.figure(figsize=(12, 6))\n",
    "sns.boxplot(x='Country', y='Avg_Temperature_degC', data=df)\n",
    "plt.title('Average Temperature by Country')\n",
    "plt.xticks(rotation=45)\n",
    "plt.tight_layout()\n",
    "plt.show()\n",
    "\n",
    "# Count plot for Extreme Weather Events\n",
    "plt.figure(figsize=(8, 5))\n",
    "sns.countplot(x='Extreme_Weather_Events', data=df, palette='viridis')\n",
    "plt.title('Count of Extreme Weather Events')\n",
    "plt.xlabel('Number of Extreme Weather Events')\n",
    "plt.tight_layout()\n",
    "plt.show()\n",
    "\n",
    "# Grouped Barplot: Renewable Energy vs. Forest Area by Country (aggregated)\n",
    "agg_df = df.groupby('Country')[['Renewable_Energy_pct', 'Forest_Area_pct']].mean().reset_index()\n",
    "plt.figure(figsize=(12, 6))\n",
    "sns.barplot(x='Country', y='Renewable_Energy_pct', data=agg_df, color='teal', label='Renewable Energy (%)')\n",
    "sns.barplot(x='Country', y='Forest_Area_pct', data=agg_df, color='salmon', label='Forest Area (%)')\n",
    "plt.title('Average Renewable Energy and Forest Area Percentage by Country')\n",
    "plt.xticks(rotation=45)\n",
    "plt.legend()\n",
    "plt.tight_layout()\n",
    "plt.show()"
   ]
  },
  {
   "cell_type": "markdown",
   "metadata": {},
   "source": [
    "## Prediction and Model Building\n",
    "\n",
    "In this section we build a simple predictor. Feeling ambitious, we model the average temperature using a selection of available features. We use a Linear Regression model and evaluate the performance using the R² score and RMSE. Occasionally, modeling surprises us if the signal is weak. The predictor might be improved with further feature engineering in future work."
   ]
  },
  {
   "cell_type": "code",
   "execution_count": null,
   "metadata": {},
   "outputs": [],
   "source": [
    "# Prepare data for prediction\n",
    "target = 'Avg_Temperature_degC'\n",
    "\n",
    "# Choose features: excluding Country since it's categorical, although we could encode it\n",
    "features = ['Year', 'CO2_Emissions_tons_per_capita', 'Sea_Level_Rise_mm',\n",
    "            'Rainfall_mm', 'Population', 'Renewable_Energy_pct',\n",
    "            'Extreme_Weather_Events', 'Forest_Area_pct']\n",
    "\n",
    "# Drop rows with missing target or features\n",
    "model_df = df[features + [target]].dropna()\n",
    "\n",
    "# Define X and y\n",
    "X = model_df[features]\n",
    "y = model_df[target]\n",
    "\n",
    "# Split into training and testing datasets\n",
    "X_train, X_test, y_train, y_test = train_test_split(X, y, test_size=0.2, random_state=RANDOM_STATE)\n",
    "print('Data split into training and test sets.')\n",
    "\n",
    "# Instantiate and train the Linear Regression model\n",
    "lr_model = LinearRegression()\n",
    "lr_model.fit(X_train, y_train)\n",
    "\n",
    "# Make predictions on the test set\n",
    "y_pred = lr_model.predict(X_test)\n",
    "\n",
    "# Evaluate model performance\n",
    "r2 = r2_score(y_test, y_pred)\n",
    "rmse = np.sqrt(mean_squared_error(y_test, y_pred))\n",
    "print(f'Linear Regression R² score: {r2:.3f}')\n",
    "print(f'Linear Regression RMSE: {rmse:.3f}')\n",
    "\n",
    "# Plot actual vs predicted values\n",
    "plt.figure(figsize=(8, 5))\n",
    "plt.scatter(y_test, y_pred, alpha=0.7, color='navy')\n",
    "plt.plot([y_test.min(), y_test.max()], [y_test.min(), y_test.max()], 'r--', lw=2)\n",
    "plt.title('Actual vs Predicted Average Temperature')\n",
    "plt.xlabel('Actual Temperature (°C)')\n",
    "plt.ylabel('Predicted Temperature (°C)')\n",
    "plt.tight_layout()\n",
    "plt.show()"
   ]
  },
  {
   "cell_type": "markdown",
   "metadata": {},
   "source": [
    "## Conclusion and Future Work\n",
    "\n",
    "This notebook analyzed temperature data from multiple countries over the years. We explored data cleaning, performed several visualizations, and built a Linear Regression predictor to forecast average temperatures based on environmental indicators. Although the predictor provides a baseline performance, future work could include:\n",
    "\n",
    "- More feature engineering (e.g., encoding country information, temporal trends analysis)\n",
    "- Experimenting with advanced models such as Random Forests or Gradient Boosted Trees\n",
    "- Incorporating more domain-specific metrics or external data sources\n",
    "\n",
    "We hope you found this analysis engaging and insightful. Please upvote if you found it useful. Happy data exploring!"
   ]
  }
 ],
 "metadata": {
  "kaggle": {
   "accelerator": "none",
   "dataSources": [
    {
     "datasetId": 6867720,
     "sourceId": 11027928,
     "sourceType": "datasetVersion"
    }
   ],
   "dockerImageVersionId": 30918,
   "isGpuEnabled": false,
   "isInternetEnabled": false,
   "language": "python",
   "sourceType": "notebook"
  },
  "kernelspec": {
   "display_name": "Python 3",
   "language": "python",
   "name": "python3"
  },
  "language_info": {
   "name": "python",
   "version": "3.x"
  }
 },
 "nbformat": 4,
 "nbformat_minor": 4
}
